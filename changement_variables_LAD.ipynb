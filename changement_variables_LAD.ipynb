{
  "nbformat": 4,
  "nbformat_minor": 5,
  "metadata": {
    "kernelspec": {
      "display_name": "Python 3",
      "language": "python",
      "name": "python3"
    },
    "language_info": {
      "codemirror_mode": {
        "name": "ipython",
        "version": 3
      },
      "file_extension": ".py",
      "mimetype": "text/x-python",
      "name": "python",
      "nbconvert_exporter": "python",
      "pygments_lexer": "ipython3",
      "version": "3.8.8"
    },
    "colab": {
      "name": "changement_variables_LAD.ipynb",
      "provenance": [],
      "include_colab_link": true
    }
  },
  "cells": [
    {
      "cell_type": "markdown",
      "metadata": {
        "id": "view-in-github",
        "colab_type": "text"
      },
      "source": [
        "<a href=\"https://colab.research.google.com/github/christian235711/Method_spad_clustering/blob/main/changement_variables_LAD.ipynb\" target=\"_parent\"><img src=\"https://colab.research.google.com/assets/colab-badge.svg\" alt=\"Open In Colab\"/></a>"
      ]
    },
    {
      "cell_type": "code",
      "metadata": {
        "id": "b50aa38f"
      },
      "source": [
        "import pandas as pd\n",
        "import numpy as np"
      ],
      "id": "b50aa38f",
      "execution_count": null,
      "outputs": []
    },
    {
      "cell_type": "code",
      "metadata": {
        "id": "6efd90d2"
      },
      "source": [
        "colonnes = [\"%C17_MENPSEUL\",\"%C17_MENCOUPSENF\",\"%C17_MENFAMMONO\",\"%C17_PMEN_MENPSEUL\",\"%P17_POP1524\",\"%P17_POP2554\",\"%P17_POP5579\",\"%P17_POP80P\",\"%P17_POP15P_PACSEE\",\"%P17_POP15P_CONCUB_UNION_LIBRE\",\"%P17_POP15P_VEUFS\",\"%P17_POP15P_DIVORCEE\",\"%P17_POP15P_CELIBATAIRE\",\"%C17_MEN_CS1\",\"%C17_MEN_CS2\",\"%C17_MEN_CS3\",\"%C17_MEN_CS4\",\"%C17_MEN_CS5\",\"%C17_MEN_CS6\",\"%C17_MEN_CS7\",\"%C17_MEN_CS8\",\"%C17_NE24F0\",\"%C17_NE24F4P\",\"%P17_ACT1564\",\"%P17_ACT1524\",\"%P17_CHOM1564\",\"%P17_CHOM1524\",\"%P17_ETUD1564\",\"%P17_AINACT1564\",\"%P17_SAL15P\",\"%P17_NSAL15P\",\"%P17_SAL15P_CDI\",\"%P17_SAL15P_EMPAID\",\"%P17_NSAL15P_INDEP\",\"%P17_ACTOCC15P_ILT1\",\"%P17_ACTOCC15P_ILT2P\",\"%C17_ACTOCC15P_VOIT\",\"%C17_ACTOCC15P_TCOM\",\"%P17_POP0205\",\"%P17_SCOL0205\",\"%P17_NSCOL15P_DIPLMIN\",\"%P17_NSCOL15P_CAPBEP\",\"%P17_NSCOL15P_BAC\",\"%P17_NSCOL15P_SUP5\",\"%P16_RP\",\"%P16_RSECOCC\",\"%P16_MAISON\",\"%P16_APPART\",\"%P16_RP_5P\",\"%P16_RP_120P\",\"%P16_RP_ACH19\",\"%P16_RP_ACH45\",\"%P16_RP_ACH70\",\"%P16_RP_ACH90\",\"%P16_RP_ACH05\",\"%P16_RP_ACH13\",\"%P16_PMEN_ANEM0002\",\"%P16_PMEN_ANEM0204\",\"%P16_PMEN_ANEM0509\",\"%P16_PMEN_ANEM10P\",\"%P16RP_PROP\",\"%P16RP_LOC\",\"%P16RP_LOCHLMV\",\"%P16RP_CLIM\",\"%P16RP_GARL\",\"%P16RP_VOIT1\",\"%P16RP_VOIT2P\",\"%P16_POP_ETR\",\"%P16_POP_IMM\"]\n"
      ],
      "id": "6efd90d2",
      "execution_count": null,
      "outputs": []
    },
    {
      "cell_type": "code",
      "metadata": {
        "id": "59c1faad"
      },
      "source": [
        "#Variable Nø 14 # 'Variable Nø V'+str(J//2+1) \n",
        "# méthodes utilisées : find et replace\n",
        "\n",
        "f = open('C:/Users/Christian/Desktop/INSEE17_copie.LAD', 'r') #, encoding=\"utf-8\")\n",
        "f2 = open('C:/Users/Christian/Desktop/input2_mod.LAD', 'w')#,encoding=\"utf-8\")\n",
        "j=0\n",
        "m=''\n",
        "\n",
        "for line in f: \n",
        "    m1 = 'Variable Nu '+str(j//2+1)    \n",
        "    m2 = 'V'+str(j//2+1)\n",
        "    m3 = '1'\n",
        "\n",
        "    t1 = len(m1)\n",
        "    t2 = len(m2)\n",
        "    t3 = len(m3)    \n",
        "    t4 = len(colonnes[j//2])\n",
        "    #print(len(line))\n",
        "    \n",
        "    if line.find(m3)==5:\n",
        "        space = ' '*(t4-t3) \n",
        "        f2.write(line.replace(m3+space, colonnes[j//2]))       \n",
        "    \n",
        "    if line.find(m1)==5:     \n",
        "        f2.write(line.replace(m1, colonnes[j//2]))\n",
        "        \n",
        "    if line.find(m2)==5:\n",
        "        if (j%2 !=0) & (t4 >20):\n",
        "            f2.write(line.replace(m2+' '*(20-t2), colonnes[j//2][0:20])) # m3 # une partie du nom de la variable\n",
        "            #f2.write(line.replace(m2, colonnes[j//2])) # avec le nom de la variable en entier\n",
        "        else : \n",
        "            space = ' '*(t4-t2)\n",
        "            f2.write(line.replace(m2+space, colonnes[j//2])) # m3\n",
        "    j= j +1 \n",
        "    \n",
        "f.close()\n",
        "f2.close()\n"
      ],
      "id": "59c1faad",
      "execution_count": null,
      "outputs": []
    },
    {
      "cell_type": "code",
      "metadata": {
        "id": "b518da7b"
      },
      "source": [
        ""
      ],
      "id": "b518da7b",
      "execution_count": null,
      "outputs": []
    }
  ]
}