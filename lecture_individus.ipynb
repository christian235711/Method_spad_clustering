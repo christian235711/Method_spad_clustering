{
  "nbformat": 4,
  "nbformat_minor": 5,
  "metadata": {
    "kernelspec": {
      "display_name": "Python 3",
      "language": "python",
      "name": "python3"
    },
    "language_info": {
      "codemirror_mode": {
        "name": "ipython",
        "version": 3
      },
      "file_extension": ".py",
      "mimetype": "text/x-python",
      "name": "python",
      "nbconvert_exporter": "python",
      "pygments_lexer": "ipython3",
      "version": "3.8.8"
    },
    "colab": {
      "name": "lecture_individus.ipynb",
      "provenance": [],
      "include_colab_link": true
    }
  },
  "cells": [
    {
      "cell_type": "markdown",
      "metadata": {
        "id": "view-in-github",
        "colab_type": "text"
      },
      "source": [
        "<a href=\"https://colab.research.google.com/github/christian235711/Method_spad_clustering/blob/main/lecture_individus.ipynb\" target=\"_parent\"><img src=\"https://colab.research.google.com/assets/colab-badge.svg\" alt=\"Open In Colab\"/></a>"
      ]
    },
    {
      "cell_type": "code",
      "metadata": {
        "id": "3bca0e9d"
      },
      "source": [
        "import pandas as pd\n",
        "#from os import listdir\n",
        "#from os.path import isfile, join\n",
        "#from pandas import ExcelWriter\n",
        "\n",
        "#import shutil\n",
        "#import openpyxl as op\n",
        "#from openpyxl import load_workbook\n",
        "import pandas as pd\n",
        "import numpy as np\n"
      ],
      "id": "3bca0e9d",
      "execution_count": null,
      "outputs": []
    },
    {
      "cell_type": "code",
      "metadata": {
        "scrolled": false,
        "id": "cebf9416",
        "outputId": "851dbe5a-ff9c-4c99-9cb6-cba92c31fc14"
      },
      "source": [
        "''' \n",
        "dff = [[], [],[],[],[]]\n",
        "\n",
        "for i in range(1,6): # il va falloir gérer le cas i = 6 après\n",
        "    key=2021\n",
        "    j=0\n",
        "    cl = 0\n",
        "    f = open('C:/Users/Christian/Desktop/INSEE17N.LST', 'r')\n",
        "    for line in f: \n",
        "        \n",
        "        if line.find(\" ----- CLASSE  \"+str(i))!=-1:\n",
        "            cl = 99\n",
        "            print(\"start, j=\",j)\n",
        "        if cl==99: \n",
        "            for k in line.split():\n",
        "                dff[i-1].append(k)                      \n",
        "        if line.find(\" ----- CLASSE  \"+str(i+1))!=-1:\n",
        "            \n",
        "            print(\"stop, j=\",j)\n",
        "            break\n",
        "        if line.find(\"POINTS LES PLUS PROCHES\") !=-1: # cas i= 6\n",
        "            \n",
        "            key = 0\n",
        "            print(\"stop, j=\",j)\n",
        "            break\n",
        "        j=j+1\n",
        "        \n",
        "    print(\"fin de boucle pour i = \"+str(i))\n",
        "    \n",
        "    if key == 2021:\n",
        "        dff[i-1]= dff[i-1][6:len(dff[i-1])-7]  \n",
        "    else :\n",
        "        dff[i-1]= dff[i-1][6:len(dff[i-1])-9]  \n",
        "        \n",
        "    print(\"taille : \",len(dff[i-1]))\n",
        "    #print(dff)\n",
        "    f.close()\n",
        "    print('')\n",
        "print(\"fin grande boucle\")\n",
        "print(len(dff[0]))\n",
        "print(len(dff[1]))\n",
        "print(len(dff[2]))\n",
        "print(len(dff[3]))\n",
        "print(len(dff[4]))\n",
        "'''\n"
      ],
      "id": "cebf9416",
      "execution_count": null,
      "outputs": [
        {
          "output_type": "execute_result",
          "data": {
            "text/plain": [
              "' \\ndff = [[], [],[],[],[]]\\n\\nfor i in range(1,6): # il va falloir gérer le cas i = 6 après\\n    key=2021\\n    j=0\\n    cl = 0\\n    f = open(\\'C:/Users/Christian/Desktop/INSEE17N.LST\\', \\'r\\')\\n    for line in f: \\n        \\n        if line.find(\" ----- CLASSE  \"+str(i))!=-1:\\n            cl = 99\\n            print(\"start, j=\",j)\\n        if cl==99: \\n            for k in line.split():\\n                dff[i-1].append(k)                      \\n        if line.find(\" ----- CLASSE  \"+str(i+1))!=-1:\\n            \\n            print(\"stop, j=\",j)\\n            break\\n        if line.find(\"POINTS LES PLUS PROCHES\") !=-1: # cas i= 6\\n            \\n            key = 0\\n            print(\"stop, j=\",j)\\n            break\\n        j=j+1\\n        \\n    print(\"fin de boucle pour i = \"+str(i))\\n    \\n    if key == 2021:\\n        dff[i-1]= dff[i-1][6:len(dff[i-1])-7]  \\n    else :\\n        dff[i-1]= dff[i-1][6:len(dff[i-1])-9]  \\n        \\n    print(\"taille : \",len(dff[i-1]))\\n    #print(dff)\\n    f.close()\\n    print(\\'\\')\\nprint(\"fin grande boucle\")\\nprint(len(dff[0]))\\nprint(len(dff[1]))\\nprint(len(dff[2]))\\nprint(len(dff[3]))\\nprint(len(dff[4]))\\n'"
            ]
          },
          "metadata": {
            "tags": []
          },
          "execution_count": 1
        }
      ]
    },
    {
      "cell_type": "code",
      "metadata": {
        "id": "3d917ab8"
      },
      "source": [
        "#if line.find(\"COMPOSITION DE : COUPURE '\"+str(mot))!=-1:"
      ],
      "id": "3d917ab8",
      "execution_count": null,
      "outputs": []
    },
    {
      "cell_type": "code",
      "metadata": {
        "id": "44531839"
      },
      "source": [
        "\n",
        "def groupe_individus(path, dff, nb_gr, tkt):\n",
        "    #dff = [[], [],[],[],[]]\n",
        "    #nb_gr=0\n",
        "    #tkt=0\n",
        "    #dff=dff\n",
        "    i=0\n",
        "    j=0\n",
        "    cl=0\n",
        "    for i in range(1,nb_gr+1): # il va falloir gérer le cas i = 6 après\n",
        "        key=2021\n",
        "        j=0\n",
        "        cl = 0\n",
        "        f = open(path, 'r')\n",
        "        for line in f: \n",
        "            #print('on commence')\n",
        "            \n",
        "            if j==tkt:               \n",
        "                #print(line.find(\" ----- CLASSE  \"+str(i)))\n",
        "                #print(j==tkt)\n",
        "                #print(line.find(\"COUPURE \")!=-1) # ajouter\n",
        "                #print( line.find(\" ----- CLASSE  \"+str(i))!=-1)\n",
        "                #print( line.find(\"POINTS LES PLUS PROCHES\") !=-1) # c'est ici le problème \n",
        "                #print(line)\n",
        "                if line.find(\" ----- CLASSE  \"+str(i))!=-1:\n",
        "                    #print(\"On est l\") # il y a un problème avec la deuxième coupure\n",
        "                    cl = 99\n",
        "                    print(\"start, j=\",j)\n",
        "                if cl==99: \n",
        "                    for k in line.split():\n",
        "                        dff[i-1].append(k)                      \n",
        "                if line.find(\" ----- CLASSE  \"+str(i+1))!=-1:\n",
        "                    tkt=j\n",
        "                    print(\"stop, j=\",j)\n",
        "                    break\n",
        "                if line.find(\"POINTS LES PLUS PROCHES\") !=-1: # cas i= 6\n",
        "                    tkt = j\n",
        "                    key = 0\n",
        "                    print(\"stop, j=\",j)\n",
        "                    break\n",
        "\n",
        "                tkt = tkt+1\n",
        "            j=j+1\n",
        "\n",
        "        print(\"fin de boucle pour i = \"+str(i))\n",
        "        #print(tkt)\n",
        "        #print(j)\n",
        "        \n",
        "        if key == 2021:\n",
        "            dff[i-1]= dff[i-1][6:len(dff[i-1])-7]  \n",
        "        else :\n",
        "            dff[i-1]= dff[i-1][6:len(dff[i-1])-9]  \n",
        "\n",
        "        print(\"taille : \",len(dff[i-1]))\n",
        "        #print(dff)\n",
        "        f.close()\n",
        "        print('')\n",
        "    print(\"fin grande boucle\")\n",
        "    #print(len(dff[0]))\n",
        "    #print(len(dff[1]))\n",
        "    #print(len(dff[2]))\n",
        "    #print(len(dff[3]))\n",
        "    #print(len(dff[4]))\n",
        "\n",
        "    tkt = tkt +1 # pour regler le problème de tkt+1\n",
        "    return dff, tkt\n"
      ],
      "id": "44531839",
      "execution_count": null,
      "outputs": []
    },
    {
      "cell_type": "code",
      "metadata": {
        "id": "20582bae",
        "outputId": "5b3ecef6-51c8-457d-ff56-660e24584b0b"
      },
      "source": [
        "#dff_1, tkt=groupe_individus(path='C:/Users/Christian/Desktop/INSEE17N.LST', dff = [[],[],[],[],[]], nb_gr=5, tkt=0)\n"
      ],
      "id": "20582bae",
      "execution_count": null,
      "outputs": [
        {
          "output_type": "stream",
          "text": [
            "start, j= 4538\n",
            "stop, j= 6396\n",
            "fin de boucle pour i = 1\n",
            "taille :  11115\n",
            "\n",
            "start, j= 6396\n",
            "stop, j= 8339\n",
            "fin de boucle pour i = 2\n",
            "taille :  11626\n",
            "\n",
            "start, j= 8339\n",
            "stop, j= 10782\n",
            "fin de boucle pour i = 3\n",
            "taille :  14623\n",
            "\n",
            "start, j= 10782\n",
            "stop, j= 11846\n",
            "fin de boucle pour i = 4\n",
            "taille :  6350\n",
            "\n",
            "start, j= 11846\n",
            "stop, j= 12768\n",
            "fin de boucle pour i = 5\n",
            "taille :  5510\n",
            "\n",
            "fin grande boucle\n"
          ],
          "name": "stdout"
        }
      ]
    },
    {
      "cell_type": "code",
      "metadata": {
        "id": "1b1c8de0",
        "outputId": "30e49db3-06e3-4d91-aff7-e31ae4bf7c09"
      },
      "source": [
        "#dff_2, tkt=groupe_individus(path='C:/Users/Christian/Desktop/INSEE17N.LST', dff = [[],[],[],[],[],[]], nb_gr=6, tkt =tkt)\n"
      ],
      "id": "1b1c8de0",
      "execution_count": null,
      "outputs": [
        {
          "output_type": "stream",
          "text": [
            "start, j= 12917\n",
            "stop, j= 14298\n",
            "fin de boucle pour i = 1\n",
            "taille :  8253\n",
            "\n",
            "start, j= 14298\n",
            "stop, j= 15875\n",
            "fin de boucle pour i = 2\n",
            "taille :  9427\n",
            "\n",
            "start, j= 15875\n",
            "stop, j= 17696\n",
            "fin de boucle pour i = 3\n",
            "taille :  10891\n",
            "\n",
            "start, j= 17696\n",
            "stop, j= 19244\n",
            "fin de boucle pour i = 4\n",
            "taille :  9254\n",
            "\n",
            "start, j= 19244\n",
            "stop, j= 20263\n",
            "fin de boucle pour i = 5\n",
            "taille :  6079\n",
            "\n",
            "start, j= 20263\n",
            "stop, j= 21153\n",
            "fin de boucle pour i = 6\n",
            "taille :  5320\n",
            "\n",
            "fin grande boucle\n"
          ],
          "name": "stdout"
        }
      ]
    },
    {
      "cell_type": "code",
      "metadata": {
        "id": "6c3a5629",
        "outputId": "d1646af5-887f-48df-e0a2-69eb1cbec2bb"
      },
      "source": [
        "#dff_3, tkt=groupe_individus(path='C:/Users/Christian/Desktop/INSEE17N.LST', dff = [[],[],[],[],[],[],[]], nb_gr=7, tkt =tkt)\n"
      ],
      "id": "6c3a5629",
      "execution_count": null,
      "outputs": [
        {
          "output_type": "stream",
          "text": [
            "start, j= 21311\n",
            "stop, j= 22355\n",
            "fin de boucle pour i = 1\n",
            "taille :  6234\n",
            "\n",
            "start, j= 22355\n",
            "stop, j= 23527\n",
            "fin de boucle pour i = 2\n",
            "taille :  6997\n",
            "\n",
            "start, j= 23527\n",
            "stop, j= 24547\n",
            "fin de boucle pour i = 3\n",
            "taille :  6090\n",
            "\n",
            "start, j= 24547\n",
            "stop, j= 26259\n",
            "fin de boucle pour i = 4\n",
            "taille :  10239\n",
            "\n",
            "start, j= 26259\n",
            "stop, j= 27739\n",
            "fin de boucle pour i = 5\n",
            "taille :  8848\n",
            "\n",
            "start, j= 27739\n",
            "stop, j= 28699\n",
            "fin de boucle pour i = 6\n",
            "taille :  5728\n",
            "\n",
            "start, j= 28699\n",
            "stop, j= 29550\n",
            "fin de boucle pour i = 7\n",
            "taille :  5088\n",
            "\n",
            "fin grande boucle\n"
          ],
          "name": "stdout"
        }
      ]
    },
    {
      "cell_type": "code",
      "metadata": {
        "id": "ef5bcaf5",
        "outputId": "aeb2720b-412f-4b58-9a4b-e5c3ecc78870"
      },
      "source": [
        "#dff_4, tkt=groupe_individus(path='C:/Users/Christian/Desktop/INSEE17N.LST', dff = [[],[],[],[],[],[],[],[]], nb_gr=8, tkt =tkt)\n"
      ],
      "id": "ef5bcaf5",
      "execution_count": null,
      "outputs": [
        {
          "output_type": "stream",
          "text": [
            "start, j= 29720\n",
            "stop, j= 31010\n",
            "fin de boucle pour i = 1\n",
            "taille :  7710\n",
            "\n",
            "start, j= 31010\n",
            "stop, j= 32119\n",
            "fin de boucle pour i = 2\n",
            "taille :  6622\n",
            "\n",
            "start, j= 32119\n",
            "stop, j= 33089\n",
            "fin de boucle pour i = 3\n",
            "taille :  5785\n",
            "\n",
            "start, j= 33089\n",
            "stop, j= 33429\n",
            "fin de boucle pour i = 4\n",
            "taille :  2010\n",
            "\n",
            "start, j= 33429\n",
            "stop, j= 34863\n",
            "fin de boucle pour i = 5\n",
            "taille :  8573\n",
            "\n",
            "start, j= 34863\n",
            "stop, j= 36203\n",
            "fin de boucle pour i = 6\n",
            "taille :  8005\n",
            "\n",
            "start, j= 36203\n",
            "stop, j= 37136\n",
            "fin de boucle pour i = 7\n",
            "taille :  5563\n",
            "\n",
            "start, j= 37136\n",
            "stop, j= 37965\n",
            "fin de boucle pour i = 8\n",
            "taille :  4956\n",
            "\n",
            "fin grande boucle\n"
          ],
          "name": "stdout"
        }
      ]
    },
    {
      "cell_type": "code",
      "metadata": {
        "id": "acef505e"
      },
      "source": [
        ""
      ],
      "id": "acef505e",
      "execution_count": null,
      "outputs": []
    },
    {
      "cell_type": "code",
      "metadata": {
        "id": "5efbe769"
      },
      "source": [
        ""
      ],
      "id": "5efbe769",
      "execution_count": null,
      "outputs": []
    },
    {
      "cell_type": "code",
      "metadata": {
        "id": "e356e57a"
      },
      "source": [
        ""
      ],
      "id": "e356e57a",
      "execution_count": null,
      "outputs": []
    }
  ]
}